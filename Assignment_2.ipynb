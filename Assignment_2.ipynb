{
  "nbformat": 4,
  "nbformat_minor": 0,
  "metadata": {
    "colab": {
      "name": "Assignment_2.ipynb",
      "provenance": [],
      "authorship_tag": "ABX9TyNz8kr7XCkN4fNah0XqaMNH",
      "include_colab_link": true
    },
    "kernelspec": {
      "name": "python3",
      "display_name": "Python 3"
    },
    "language_info": {
      "name": "python"
    }
  },
  "cells": [
    {
      "cell_type": "markdown",
      "metadata": {
        "id": "view-in-github",
        "colab_type": "text"
      },
      "source": [
        "<a href=\"https://colab.research.google.com/github/JerinRaj20/Assignment_Py/blob/main/Assignment_2.ipynb\" target=\"_parent\"><img src=\"https://colab.research.google.com/assets/colab-badge.svg\" alt=\"Open In Colab\"/></a>"
      ]
    },
    {
      "cell_type": "markdown",
      "source": [
        "Q1\n"
      ],
      "metadata": {
        "id": "Dn2On9C33_GM"
      }
    },
    {
      "cell_type": "code",
      "source": [
        "a = int ( input(\"Enter first number\"))\n",
        "b = int ( input(\"Enter second number\"))\n",
        "\n",
        "def function_addition(a,b):\n",
        "  return a+b;\n",
        "\n",
        "print(function_addition(a,b));\n"
      ],
      "metadata": {
        "colab": {
          "base_uri": "https://localhost:8080/"
        },
        "id": "4U2cUN5r4BsB",
        "outputId": "4209ec08-cf55-4934-ca84-f3a703f47d51"
      },
      "execution_count": null,
      "outputs": [
        {
          "output_type": "stream",
          "name": "stdout",
          "text": [
            "Enter first number2\n",
            "Enter second number1\n",
            "3\n"
          ]
        }
      ]
    },
    {
      "cell_type": "code",
      "source": [
        ""
      ],
      "metadata": {
        "id": "f6AeMf4M4aJ3"
      },
      "execution_count": null,
      "outputs": []
    },
    {
      "cell_type": "markdown",
      "source": [
        "#Q2"
      ],
      "metadata": {
        "id": "juGcwKqI52QH"
      }
    },
    {
      "cell_type": "code",
      "source": [
        "a = 5\n",
        "b =\"String\"\n",
        "\n",
        "c = b+a;\n"
      ],
      "metadata": {
        "colab": {
          "base_uri": "https://localhost:8080/",
          "height": 200
        },
        "id": "RzAvwv9k53L_",
        "outputId": "a713a77c-f53b-4f64-c479-b4fc10c616ff"
      },
      "execution_count": null,
      "outputs": [
        {
          "output_type": "error",
          "ename": "TypeError",
          "evalue": "ignored",
          "traceback": [
            "\u001b[0;31m---------------------------------------------------------------------------\u001b[0m",
            "\u001b[0;31mTypeError\u001b[0m                                 Traceback (most recent call last)",
            "\u001b[0;32m<ipython-input-7-717c4845e4d5>\u001b[0m in \u001b[0;36m<module>\u001b[0;34m()\u001b[0m\n\u001b[1;32m      2\u001b[0m \u001b[0mb\u001b[0m \u001b[0;34m=\u001b[0m\u001b[0;34m\"String\"\u001b[0m\u001b[0;34m\u001b[0m\u001b[0;34m\u001b[0m\u001b[0m\n\u001b[1;32m      3\u001b[0m \u001b[0;34m\u001b[0m\u001b[0m\n\u001b[0;32m----> 4\u001b[0;31m \u001b[0mc\u001b[0m \u001b[0;34m=\u001b[0m \u001b[0mb\u001b[0m\u001b[0;34m+\u001b[0m\u001b[0ma\u001b[0m\u001b[0;34m;\u001b[0m\u001b[0;34m\u001b[0m\u001b[0;34m\u001b[0m\u001b[0m\n\u001b[0m",
            "\u001b[0;31mTypeError\u001b[0m: can only concatenate str (not \"int\") to str"
          ]
        }
      ]
    },
    {
      "cell_type": "code",
      "source": [
        ""
      ],
      "metadata": {
        "id": "C1h2u5LD6NHn"
      },
      "execution_count": null,
      "outputs": []
    },
    {
      "cell_type": "markdown",
      "source": [
        "#Q3"
      ],
      "metadata": {
        "id": "Zu5tkE1O6c-H"
      }
    },
    {
      "cell_type": "code",
      "source": [
        "string1 = \"Data Science\"\n",
        "a = [i for i in string1 if i == 'S']\n",
        "print(a)"
      ],
      "metadata": {
        "colab": {
          "base_uri": "https://localhost:8080/"
        },
        "id": "JYYO1RKm6d3g",
        "outputId": "3205efae-f6fb-44d4-b6a1-a0f031ca23e4"
      },
      "execution_count": null,
      "outputs": [
        {
          "output_type": "stream",
          "name": "stdout",
          "text": [
            "['S']\n"
          ]
        }
      ]
    },
    {
      "cell_type": "markdown",
      "source": [
        "#Q4"
      ],
      "metadata": {
        "id": "_rk6yD9T7vx1"
      }
    },
    {
      "cell_type": "code",
      "source": [
        "a =[1,2,3,1]\n",
        "\n",
        "def comparison(a):\n",
        "  if a[0] == a[-1]:\n",
        "    return True\n",
        "  else:\n",
        "    return False\n",
        "\n",
        "comparison(a)"
      ],
      "metadata": {
        "colab": {
          "base_uri": "https://localhost:8080/"
        },
        "id": "qozf-2eG7wx5",
        "outputId": "11214d53-cc34-4c4d-b979-8a00d045a8c6"
      },
      "execution_count": null,
      "outputs": [
        {
          "output_type": "execute_result",
          "data": {
            "text/plain": [
              "True"
            ]
          },
          "metadata": {},
          "execution_count": 16
        }
      ]
    },
    {
      "cell_type": "markdown",
      "source": [
        "#Q5"
      ],
      "metadata": {
        "id": "JLBxSnrv9XSo"
      }
    },
    {
      "cell_type": "code",
      "source": [
        "l1= [10,20,33,46,55]\n",
        "\n",
        "a =[i for i in l1 if i%5==0]\n",
        "print(a)"
      ],
      "metadata": {
        "colab": {
          "base_uri": "https://localhost:8080/"
        },
        "id": "w5VWMOx09YeW",
        "outputId": "849c3829-f05c-4179-8438-297f6dc4f81a"
      },
      "execution_count": null,
      "outputs": [
        {
          "output_type": "stream",
          "name": "stdout",
          "text": [
            "[10, 20, 55]\n"
          ]
        }
      ]
    },
    {
      "cell_type": "code",
      "source": [
        "fil =list(filter(lambda x : x%5==0 ,l1))\n",
        "print(fil)"
      ],
      "metadata": {
        "colab": {
          "base_uri": "https://localhost:8080/"
        },
        "id": "ZVK_UwLm-GWR",
        "outputId": "6582c9fd-c343-423c-be1e-9b6562c6e6ed"
      },
      "execution_count": null,
      "outputs": [
        {
          "output_type": "stream",
          "name": "stdout",
          "text": [
            "[10, 20, 55]\n"
          ]
        }
      ]
    },
    {
      "cell_type": "markdown",
      "source": [
        "#Q6 - calculate add sub using fun"
      ],
      "metadata": {
        "id": "zWlerbgT_M1B"
      }
    },
    {
      "cell_type": "code",
      "source": [
        "a =int(input(\"Enter first number\"))\n",
        "b =int(input(\"Enter second number\"))\n",
        "\n",
        "def calculation (a,b):\n",
        "  return (a+b), (a-b)\n",
        "\n",
        "print(calculation(a,b))\n",
        "\n",
        "\n"
      ],
      "metadata": {
        "colab": {
          "base_uri": "https://localhost:8080/"
        },
        "id": "KBWZjB6__Npj",
        "outputId": "5512c982-c3ad-4246-8279-99cd5cb32a3d"
      },
      "execution_count": null,
      "outputs": [
        {
          "output_type": "stream",
          "name": "stdout",
          "text": [
            "Enter first number2\n",
            "Enter second number1\n",
            "(3, 1)\n"
          ]
        }
      ]
    },
    {
      "cell_type": "markdown",
      "source": [
        "#Q7"
      ],
      "metadata": {
        "id": "iLX6aa1IA9mG"
      }
    },
    {
      "cell_type": "code",
      "source": [
        "a =int(input(\"Enter first number\"))\n",
        "b =int(input(\"Enter second number\"))\n",
        "\n",
        "def calculation (a=7,b):\n",
        "  return (a+b), (a-b)\n",
        "\n",
        "print(calculation(a,b))\n"
      ],
      "metadata": {
        "colab": {
          "base_uri": "https://localhost:8080/",
          "height": 130
        },
        "id": "1P-eBowkA-dx",
        "outputId": "d919c6e8-6b6f-4f7e-83f3-f14e866817ec"
      },
      "execution_count": null,
      "outputs": [
        {
          "output_type": "error",
          "ename": "SyntaxError",
          "evalue": "ignored",
          "traceback": [
            "\u001b[0;36m  File \u001b[0;32m\"<ipython-input-26-a4e4e527da90>\"\u001b[0;36m, line \u001b[0;32m4\u001b[0m\n\u001b[0;31m    def calculation (a=7,b):\u001b[0m\n\u001b[0m                    ^\u001b[0m\n\u001b[0;31mSyntaxError\u001b[0m\u001b[0;31m:\u001b[0m non-default argument follows default argument\n"
          ]
        }
      ]
    },
    {
      "cell_type": "markdown",
      "source": [
        "#Q8 - Recursion - Function within a function"
      ],
      "metadata": {
        "id": "WqPwlpzLBuwS"
      }
    },
    {
      "cell_type": "code",
      "source": [
        "a = int(input(\"Enter number\"))\n",
        "\n",
        "def sum(a):\n",
        "  if a ==1:\n",
        "    return a\n",
        "  else:\n",
        "    return a+sum(a-1);\n",
        "\n",
        "sum(a)\n"
      ],
      "metadata": {
        "id": "2bHY8ep2Bv7t",
        "colab": {
          "base_uri": "https://localhost:8080/"
        },
        "outputId": "91f83af0-e70d-49d1-88a8-79ba5da1fc3a"
      },
      "execution_count": 1,
      "outputs": [
        {
          "name": "stdout",
          "output_type": "stream",
          "text": [
            "Enter number3\n"
          ]
        },
        {
          "output_type": "execute_result",
          "data": {
            "text/plain": [
              "6"
            ]
          },
          "metadata": {},
          "execution_count": 1
        }
      ]
    },
    {
      "cell_type": "markdown",
      "source": [
        "#Q9 - Lamda and Filter"
      ],
      "metadata": {
        "id": "d4LLyWLXu7bK"
      }
    },
    {
      "cell_type": "code",
      "source": [
        "list1 =[12,11,53,22,21,77,87,88,98]\n",
        "a =list(filter(lambda x : x%2 !=0 , list1))\n",
        "b =list(map (lambda x : x*x  , a))\n",
        "print(b)\n",
        "print(a)"
      ],
      "metadata": {
        "colab": {
          "base_uri": "https://localhost:8080/"
        },
        "id": "3-ERtmtxvA5S",
        "outputId": "cf7ded4c-bbcb-4694-ee2b-9d9c07a9aba9"
      },
      "execution_count": 8,
      "outputs": [
        {
          "output_type": "stream",
          "name": "stdout",
          "text": [
            "[121, 2809, 441, 5929, 7569]\n",
            "[11, 53, 21, 77, 87]\n"
          ]
        }
      ]
    },
    {
      "cell_type": "markdown",
      "source": [
        "#Q10"
      ],
      "metadata": {
        "id": "2rAqJ-AXxNFY"
      }
    },
    {
      "cell_type": "code",
      "source": [
        ""
      ],
      "metadata": {
        "id": "SqV5x-fRxOJS"
      },
      "execution_count": 10,
      "outputs": []
    }
  ]
}