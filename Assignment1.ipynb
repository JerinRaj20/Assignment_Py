{
  "nbformat": 4,
  "nbformat_minor": 0,
  "metadata": {
    "colab": {
      "name": "Assignment1.ipynb",
      "provenance": [],
      "collapsed_sections": [],
      "toc_visible": true,
      "authorship_tag": "ABX9TyMFgaGmRakHuw7YcLwJi2EW",
      "include_colab_link": true
    },
    "kernelspec": {
      "name": "python3",
      "display_name": "Python 3"
    },
    "language_info": {
      "name": "python"
    }
  },
  "cells": [
    {
      "cell_type": "markdown",
      "metadata": {
        "id": "view-in-github",
        "colab_type": "text"
      },
      "source": [
        "<a href=\"https://colab.research.google.com/github/JerinRaj20/Assignment_Py/blob/main/Assignment1.ipynb\" target=\"_parent\"><img src=\"https://colab.research.google.com/assets/colab-badge.svg\" alt=\"Open In Colab\"/></a>"
      ]
    },
    {
      "cell_type": "markdown",
      "source": [
        "### Import"
      ],
      "metadata": {
        "id": "t7mKbMeTBj6Z"
      }
    },
    {
      "cell_type": "code",
      "source": [
        "## Q2"
      ],
      "metadata": {
        "id": "OeaQLdiDBxdR"
      },
      "execution_count": null,
      "outputs": []
    },
    {
      "cell_type": "markdown",
      "source": [
        "## Q2\n"
      ],
      "metadata": {
        "id": "hvX5vLc8Cojo"
      }
    },
    {
      "cell_type": "code",
      "source": [
        "s = 'string' ;\n",
        "int1 = 2;\n",
        "float1 =2.05;\n",
        "print(s,int1,float1)"
      ],
      "metadata": {
        "colab": {
          "base_uri": "https://localhost:8080/"
        },
        "id": "B_M54M0qCmSI",
        "outputId": "397d5d70-ce66-44bf-ae0e-d7c2351336ed"
      },
      "execution_count": null,
      "outputs": [
        {
          "output_type": "stream",
          "name": "stdout",
          "text": [
            "string 2 2.05\n"
          ]
        }
      ]
    },
    {
      "cell_type": "code",
      "source": [
        "del s, int1, float1;"
      ],
      "metadata": {
        "id": "VsHpGKXxDH0e"
      },
      "execution_count": null,
      "outputs": []
    },
    {
      "cell_type": "code",
      "source": [
        "print(s)"
      ],
      "metadata": {
        "colab": {
          "base_uri": "https://localhost:8080/"
        },
        "id": "njw0CiqLDPwb",
        "outputId": "26048756-c4ba-4821-b78e-75bcfdb5321d"
      },
      "execution_count": null,
      "outputs": [
        {
          "output_type": "stream",
          "name": "stdout",
          "text": [
            "string\n"
          ]
        }
      ]
    },
    {
      "cell_type": "markdown",
      "source": [
        "##Q3\n"
      ],
      "metadata": {
        "id": "WJjBf-mWDVft"
      }
    },
    {
      "cell_type": "code",
      "source": [
        "del = 4;"
      ],
      "metadata": {
        "colab": {
          "base_uri": "https://localhost:8080/",
          "height": 130
        },
        "id": "34xwmqMADYnB",
        "outputId": "e33d67a6-b74d-467e-8c6f-7801ab7270f8"
      },
      "execution_count": null,
      "outputs": [
        {
          "output_type": "error",
          "ename": "SyntaxError",
          "evalue": "ignored",
          "traceback": [
            "\u001b[0;36m  File \u001b[0;32m\"<ipython-input-8-9e7b79a5c6a1>\"\u001b[0;36m, line \u001b[0;32m1\u001b[0m\n\u001b[0;31m    del = 4;\u001b[0m\n\u001b[0m        ^\u001b[0m\n\u001b[0;31mSyntaxError\u001b[0m\u001b[0;31m:\u001b[0m invalid syntax\n"
          ]
        }
      ]
    },
    {
      "cell_type": "markdown",
      "source": [
        "##Q4"
      ],
      "metadata": {
        "id": "KF_tiGMEDhtD"
      }
    },
    {
      "cell_type": "code",
      "source": [
        "a = (1+2+\n",
        "     3+4)\n",
        "print (a)"
      ],
      "metadata": {
        "colab": {
          "base_uri": "https://localhost:8080/"
        },
        "id": "6d8jJhrGDjJt",
        "outputId": "8c0bfb6c-3883-477a-dcb8-299fd2dbc356"
      },
      "execution_count": null,
      "outputs": [
        {
          "output_type": "stream",
          "name": "stdout",
          "text": [
            "10\n"
          ]
        }
      ]
    },
    {
      "cell_type": "markdown",
      "source": [
        "#Q5"
      ],
      "metadata": {
        "id": "K4hhagpeD1Fb"
      }
    },
    {
      "cell_type": "code",
      "source": [
        "hello= range(100,999,8)\n",
        "for i in hello:\n",
        "  print(i);"
      ],
      "metadata": {
        "colab": {
          "base_uri": "https://localhost:8080/"
        },
        "id": "XAKU0yzCD2X9",
        "outputId": "abcdbfac-5545-4209-a5d6-fb3cc73701f9"
      },
      "execution_count": null,
      "outputs": [
        {
          "output_type": "stream",
          "name": "stdout",
          "text": [
            "100\n",
            "108\n",
            "116\n",
            "124\n",
            "132\n",
            "140\n",
            "148\n",
            "156\n",
            "164\n",
            "172\n",
            "180\n",
            "188\n",
            "196\n",
            "204\n",
            "212\n",
            "220\n",
            "228\n",
            "236\n",
            "244\n",
            "252\n",
            "260\n",
            "268\n",
            "276\n",
            "284\n",
            "292\n",
            "300\n",
            "308\n",
            "316\n",
            "324\n",
            "332\n",
            "340\n",
            "348\n",
            "356\n",
            "364\n",
            "372\n",
            "380\n",
            "388\n",
            "396\n",
            "404\n",
            "412\n",
            "420\n",
            "428\n",
            "436\n",
            "444\n",
            "452\n",
            "460\n",
            "468\n",
            "476\n",
            "484\n",
            "492\n",
            "500\n",
            "508\n",
            "516\n",
            "524\n",
            "532\n",
            "540\n",
            "548\n",
            "556\n",
            "564\n",
            "572\n",
            "580\n",
            "588\n",
            "596\n",
            "604\n",
            "612\n",
            "620\n",
            "628\n",
            "636\n",
            "644\n",
            "652\n",
            "660\n",
            "668\n",
            "676\n",
            "684\n",
            "692\n",
            "700\n",
            "708\n",
            "716\n",
            "724\n",
            "732\n",
            "740\n",
            "748\n",
            "756\n",
            "764\n",
            "772\n",
            "780\n",
            "788\n",
            "796\n",
            "804\n",
            "812\n",
            "820\n",
            "828\n",
            "836\n",
            "844\n",
            "852\n",
            "860\n",
            "868\n",
            "876\n",
            "884\n",
            "892\n",
            "900\n",
            "908\n",
            "916\n",
            "924\n",
            "932\n",
            "940\n",
            "948\n",
            "956\n",
            "964\n",
            "972\n",
            "980\n",
            "988\n",
            "996\n"
          ]
        }
      ]
    },
    {
      "cell_type": "markdown",
      "source": [
        ""
      ],
      "metadata": {
        "id": "oUR0gJEoE9LA"
      }
    },
    {
      "cell_type": "code",
      "source": [
        ""
      ],
      "metadata": {
        "id": "PLBo9T_CFAgq"
      },
      "execution_count": null,
      "outputs": []
    },
    {
      "cell_type": "markdown",
      "source": [
        "#Q6"
      ],
      "metadata": {
        "id": "dWRQLa1kFB8q"
      }
    },
    {
      "cell_type": "code",
      "source": [
        "\n",
        "for i in range(10):\n",
        "  if i<6:\n",
        "    print(i);"
      ],
      "metadata": {
        "colab": {
          "base_uri": "https://localhost:8080/"
        },
        "id": "2TdVGG63FDAi",
        "outputId": "ca6e68fe-9535-41a2-c485-5490295cd658"
      },
      "execution_count": null,
      "outputs": [
        {
          "output_type": "stream",
          "name": "stdout",
          "text": [
            "0\n",
            "1\n",
            "2\n",
            "3\n",
            "4\n",
            "5\n"
          ]
        }
      ]
    },
    {
      "cell_type": "markdown",
      "source": [
        "#Q7"
      ],
      "metadata": {
        "id": "TPRsxP97GQDI"
      }
    },
    {
      "cell_type": "code",
      "source": [
        "def hello():\n",
        "  '''anything'''\n",
        "\n",
        "print(hello.__doc__)"
      ],
      "metadata": {
        "colab": {
          "base_uri": "https://localhost:8080/"
        },
        "id": "kP9hSMpSGUUb",
        "outputId": "e0d7d811-2bee-4220-821a-745b1be11fcc"
      },
      "execution_count": null,
      "outputs": [
        {
          "output_type": "stream",
          "name": "stdout",
          "text": [
            "anything\n"
          ]
        }
      ]
    },
    {
      "cell_type": "markdown",
      "source": [
        "#Q8"
      ],
      "metadata": {
        "id": "VMbRbGnWIB72"
      }
    },
    {
      "cell_type": "code",
      "source": [
        ""
      ],
      "metadata": {
        "id": "3-2U-YqYIEJh"
      },
      "execution_count": null,
      "outputs": []
    },
    {
      "cell_type": "markdown",
      "source": [
        "#Q9"
      ],
      "metadata": {
        "id": "hZD2jp8jIeIW"
      }
    },
    {
      "cell_type": "code",
      "source": [
        "i = [a for a in range(1,100,2)]\n",
        "print(i)"
      ],
      "metadata": {
        "colab": {
          "base_uri": "https://localhost:8080/"
        },
        "id": "h5ZKkdMbIfc3",
        "outputId": "db29fda4-e27d-435e-ead5-19bca50169b2"
      },
      "execution_count": null,
      "outputs": [
        {
          "output_type": "stream",
          "name": "stdout",
          "text": [
            "[1, 3, 5, 7, 9, 11, 13, 15, 17, 19, 21, 23, 25, 27, 29, 31, 33, 35, 37, 39, 41, 43, 45, 47, 49, 51, 53, 55, 57, 59, 61, 63, 65, 67, 69, 71, 73, 75, 77, 79, 81, 83, 85, 87, 89, 91, 93, 95, 97, 99]\n"
          ]
        }
      ]
    },
    {
      "cell_type": "markdown",
      "source": [
        "#Q10\n"
      ],
      "metadata": {
        "id": "WyWBTLRUJMEe"
      }
    },
    {
      "cell_type": "code",
      "source": [
        "name ='jerin'\n",
        "b='aeiou'\n",
        "i = [a for a in name if a not in b]\n",
        "print(i)"
      ],
      "metadata": {
        "colab": {
          "base_uri": "https://localhost:8080/"
        },
        "id": "iTsUd95oJNlz",
        "outputId": "ec265156-7430-453a-dfec-28f884197c1d"
      },
      "execution_count": null,
      "outputs": [
        {
          "output_type": "stream",
          "name": "stdout",
          "text": [
            "['j', 'r', 'n']\n"
          ]
        }
      ]
    }
  ]
}